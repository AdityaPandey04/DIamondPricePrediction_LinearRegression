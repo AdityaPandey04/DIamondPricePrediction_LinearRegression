{
 "cells": [
  {
   "cell_type": "code",
   "execution_count": 1,
   "metadata": {},
   "outputs": [],
   "source": [
    "import pandas as pd\n",
    "import numpy as np\n",
    "import seaborn as sns\n",
    "from sklearn.impute import SimpleImputer\n",
    "from sklearn.preprocessing import StandardScaler\n",
    "from sklearn.preprocessing import OrdinalEncoder\n",
    "from sklearn.pipeline import Pipeline\n",
    "from sklearn.compose import ColumnTransformer\n",
    "from sklearn.model_selection import train_test_split\n",
    "from sklearn.linear_model import LinearRegression,Lasso,Ridge,ElasticNet\n",
    "from sklearn.metrics import r2_score,mean_absolute_error,mean_squared_error\n",
    "\n",
    "df = pd.read_csv('Diamond Price Prediction.csv')\n",
    "df.columns = ['carat','cut','color','clarity','depth','table','price','x','y','z']"
   ]
  },
  {
   "cell_type": "code",
   "execution_count": 2,
   "metadata": {},
   "outputs": [],
   "source": [
    "CutRankLst = ['Fair','Good','Very Good','Premium','Ideal']\n",
    "ColorRankLst = ['D','E','F','G','H','I','J']\n",
    "ClarityRankLst = ['I1','SI2','SI1','VS2','VS1','VVS2','VVS1','IF']"
   ]
  },
  {
   "cell_type": "markdown",
   "metadata": {},
   "source": [
    "## DataFrame Split"
   ]
  },
  {
   "cell_type": "code",
   "execution_count": 3,
   "metadata": {},
   "outputs": [],
   "source": [
    "y = df[['price']]\n",
    "x = df.drop(['price'],axis=1)"
   ]
  },
  {
   "cell_type": "code",
   "execution_count": 4,
   "metadata": {},
   "outputs": [],
   "source": [
    "categorical_column_name = x.select_dtypes(['O']).columns\n",
    "numercal_column_name = x.select_dtypes(['int64','float64']).columns"
   ]
  },
  {
   "cell_type": "code",
   "execution_count": 5,
   "metadata": {},
   "outputs": [],
   "source": [
    "X_train,X_test,y_train,y_test = train_test_split(x,y, test_size=0.3, random_state=29)"
   ]
  },
  {
   "cell_type": "markdown",
   "metadata": {},
   "source": [
    "## Model Building"
   ]
  },
  {
   "cell_type": "code",
   "execution_count": 6,
   "metadata": {},
   "outputs": [],
   "source": [
    "models = {'LinearRegression':LinearRegression(),\n",
    "          'Lasso':Lasso(),\n",
    "          'Ridge':Ridge(),\n",
    "          'ElasticNet':ElasticNet()}"
   ]
  },
  {
   "cell_type": "markdown",
   "metadata": {},
   "source": [
    "## Pipeline Building"
   ]
  },
  {
   "cell_type": "code",
   "execution_count": 7,
   "metadata": {},
   "outputs": [],
   "source": [
    "numeric_pipeline = Pipeline(steps=[\n",
    "    ('imputation',SimpleImputer(strategy='median')),\n",
    "    ('scalar',StandardScaler())\n",
    "                                   \n",
    "])"
   ]
  },
  {
   "cell_type": "code",
   "execution_count": 8,
   "metadata": {},
   "outputs": [],
   "source": [
    "categorical_pipeline = Pipeline(steps=[\n",
    "    ('imputation',SimpleImputer(strategy=('most_frequent'))),\n",
    "    ('encoder',OrdinalEncoder(categories=[CutRankLst,ColorRankLst,ClarityRankLst])),\n",
    "    ('scaler',StandardScaler())\n",
    "])"
   ]
  },
  {
   "cell_type": "markdown",
   "metadata": {},
   "source": [
    "## Pipeline Combining"
   ]
  },
  {
   "cell_type": "code",
   "execution_count": 9,
   "metadata": {},
   "outputs": [],
   "source": [
    "preprocessor = ColumnTransformer(transformers=[\n",
    "    ('numeric_transformer',numeric_pipeline,numercal_column_name),\n",
    "    ('categorical_transformer',categorical_pipeline,categorical_column_name)\n",
    "])"
   ]
  },
  {
   "cell_type": "markdown",
   "metadata": {},
   "source": [
    "## Error and Score Cheking"
   ]
  },
  {
   "cell_type": "code",
   "execution_count": 10,
   "metadata": {},
   "outputs": [],
   "source": [
    "def ErrorScoreChecker(tv,pv):\n",
    "    MAE = mean_absolute_error(tv,pv)\n",
    "    MSE = mean_squared_error(tv,pv)\n",
    "    R2 = r2_score(tv,pv)\n",
    "    SRMSE = np.sqrt(mean_squared_error(tv,pv))\n",
    "    return MAE, MSE, R2, SRMSE"
   ]
  },
  {
   "cell_type": "markdown",
   "metadata": {},
   "source": [
    "## Testing Models"
   ]
  },
  {
   "cell_type": "code",
   "execution_count": 11,
   "metadata": {},
   "outputs": [],
   "source": [
    "X_train=pd.DataFrame(preprocessor.fit_transform(X_train),columns=preprocessor.get_feature_names_out())\n",
    "X_test=pd.DataFrame(preprocessor.transform(X_test),columns=preprocessor.get_feature_names_out())"
   ]
  },
  {
   "cell_type": "code",
   "execution_count": 20,
   "metadata": {},
   "outputs": [
    {
     "name": "stdout",
     "output_type": "stream",
     "text": [
      "mae =  808.6124190183048\n",
      "mse =  1491798.7519549378\n",
      "rmse =  1221.3921368483334\n",
      "r2 =  90.58932375073819\n",
      "\n",
      " ===================================\n",
      "mae =  809.7112801181503\n",
      "mse =  1491801.4941975847\n",
      "rmse =  1221.3932594367732\n",
      "r2 =  90.5893064519184\n",
      "\n",
      " ===================================\n",
      "mae =  808.7147987793674\n",
      "mse =  1491778.2917673967\n",
      "rmse =  1221.3837610544022\n",
      "r2 =  90.58945281922057\n",
      "\n",
      " ===================================\n",
      "mae =  1074.8959508426833\n",
      "mse =  2602022.97196191\n",
      "rmse =  1613.0787246634648\n",
      "r2 =  83.58572444829659\n",
      "\n",
      " ===================================\n"
     ]
    }
   ],
   "source": [
    "for i in range(len(models)):\n",
    "    model = list(models.values())[i]\n",
    "    model.fit(X_train,y_train)\n",
    "    yp = model.predict(X_test)\n",
    "    mae, mse, r2, rmse = ErrorScoreChecker(y_test,yp)\n",
    "    print('mae = ',mae)\n",
    "    print('mse = ',mse)\n",
    "    print('rmse = ',rmse)\n",
    "    print('r2 = ',r2*100)\n",
    "    print('\\n','='*35)"
   ]
  },
  {
   "cell_type": "code",
   "execution_count": null,
   "metadata": {},
   "outputs": [],
   "source": []
  }
 ],
 "metadata": {
  "kernelspec": {
   "display_name": "Python 3",
   "language": "python",
   "name": "python3"
  },
  "language_info": {
   "codemirror_mode": {
    "name": "ipython",
    "version": 3
   },
   "file_extension": ".py",
   "mimetype": "text/x-python",
   "name": "python",
   "nbconvert_exporter": "python",
   "pygments_lexer": "ipython3",
   "version": "3.8.0"
  },
  "orig_nbformat": 4
 },
 "nbformat": 4,
 "nbformat_minor": 2
}
